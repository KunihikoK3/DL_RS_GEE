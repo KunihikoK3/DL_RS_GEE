{
  "nbformat": 4,
  "nbformat_minor": 0,
  "metadata": {
    "colab": {
      "name": "GOES16_gif.ipynb",
      "provenance": [],
      "collapsed_sections": [],
      "toc_visible": true,
      "authorship_tag": "ABX9TyM8g9vguGUrb7qT7C7Lkp15",
      "include_colab_link": true
    },
    "kernelspec": {
      "name": "python3",
      "display_name": "Python 3"
    },
    "language_info": {
      "name": "python"
    },
    "widgets": {
      "application/vnd.jupyter.widget-state+json": {
        "35336e37d6974fa490ac8ec45f8c94ad": {
          "model_module": "@jupyter-widgets/output",
          "model_name": "OutputModel",
          "model_module_version": "1.0.0",
          "state": {
            "_dom_classes": [],
            "_model_module": "@jupyter-widgets/output",
            "_model_module_version": "1.0.0",
            "_model_name": "OutputModel",
            "_view_count": null,
            "_view_module": "@jupyter-widgets/output",
            "_view_module_version": "1.0.0",
            "_view_name": "OutputView",
            "layout": "IPY_MODEL_9b1ea5c3deb14edfab818636597fc29a",
            "msg_id": "",
            "outputs": [
              {
                "output_type": "display_data",
                "data": {
                  "text/plain": "Image(value=b'GIF89a^\\x01\\xf0\\x00\\xf7\\x1f\\x00\\x00\\x00\\x00$\\x00\\x00H\\x00\\x00l\\x00\\x00\\x90\\x00\\x00\\xb4\\x00\\x00\\x…",
                  "application/vnd.jupyter.widget-view+json": {
                    "version_major": 2,
                    "version_minor": 0,
                    "model_id": "13b0327863624daeab8783c9d57b0050"
                  }
                },
                "metadata": {
                  "application/vnd.jupyter.widget-view+json": {
                    "colab": {
                      "custom_widget_manager": {
                        "url": "https://ssl.gstatic.com/colaboratory-static/widgets/colab-cdn-widget-manager/a8874ba6619b6106/manager.min.js"
                      }
                    }
                  }
                }
              }
            ]
          }
        },
        "9b1ea5c3deb14edfab818636597fc29a": {
          "model_module": "@jupyter-widgets/base",
          "model_name": "LayoutModel",
          "model_module_version": "1.2.0",
          "state": {
            "_model_module": "@jupyter-widgets/base",
            "_model_module_version": "1.2.0",
            "_model_name": "LayoutModel",
            "_view_count": null,
            "_view_module": "@jupyter-widgets/base",
            "_view_module_version": "1.2.0",
            "_view_name": "LayoutView",
            "align_content": null,
            "align_items": null,
            "align_self": null,
            "border": null,
            "bottom": null,
            "display": null,
            "flex": null,
            "flex_flow": null,
            "grid_area": null,
            "grid_auto_columns": null,
            "grid_auto_flow": null,
            "grid_auto_rows": null,
            "grid_column": null,
            "grid_gap": null,
            "grid_row": null,
            "grid_template_areas": null,
            "grid_template_columns": null,
            "grid_template_rows": null,
            "height": null,
            "justify_content": null,
            "justify_items": null,
            "left": null,
            "margin": null,
            "max_height": null,
            "max_width": null,
            "min_height": null,
            "min_width": null,
            "object_fit": null,
            "object_position": null,
            "order": null,
            "overflow": null,
            "overflow_x": null,
            "overflow_y": null,
            "padding": null,
            "right": null,
            "top": null,
            "visibility": null,
            "width": null
          }
        },
        "13b0327863624daeab8783c9d57b0050": {
          "model_module": "@jupyter-widgets/controls",
          "model_name": "ImageModel",
          "model_module_version": "1.5.0",
          "state": {
            "_dom_classes": [],
            "_model_module": "@jupyter-widgets/controls",
            "_model_module_version": "1.5.0",
            "_model_name": "ImageModel",
            "_view_count": null,
            "_view_module": "@jupyter-widgets/controls",
            "_view_module_version": "1.5.0",
            "_view_name": "ImageView",
            "format": "png",
            "height": "",
            "layout": "IPY_MODEL_45831d1b9ed34de5a250ae28041a070e",
            "width": ""
          }
        },
        "45831d1b9ed34de5a250ae28041a070e": {
          "model_module": "@jupyter-widgets/base",
          "model_name": "LayoutModel",
          "model_module_version": "1.2.0",
          "state": {
            "_model_module": "@jupyter-widgets/base",
            "_model_module_version": "1.2.0",
            "_model_name": "LayoutModel",
            "_view_count": null,
            "_view_module": "@jupyter-widgets/base",
            "_view_module_version": "1.2.0",
            "_view_name": "LayoutView",
            "align_content": null,
            "align_items": null,
            "align_self": null,
            "border": null,
            "bottom": null,
            "display": null,
            "flex": null,
            "flex_flow": null,
            "grid_area": null,
            "grid_auto_columns": null,
            "grid_auto_flow": null,
            "grid_auto_rows": null,
            "grid_column": null,
            "grid_gap": null,
            "grid_row": null,
            "grid_template_areas": null,
            "grid_template_columns": null,
            "grid_template_rows": null,
            "height": null,
            "justify_content": null,
            "justify_items": null,
            "left": null,
            "margin": null,
            "max_height": null,
            "max_width": null,
            "min_height": null,
            "min_width": null,
            "object_fit": null,
            "object_position": null,
            "order": null,
            "overflow": null,
            "overflow_x": null,
            "overflow_y": null,
            "padding": null,
            "right": null,
            "top": null,
            "visibility": null,
            "width": null
          }
        },
        "eebf46239ef54308a69eeb40e2442aaa": {
          "model_module": "@jupyter-widgets/output",
          "model_name": "OutputModel",
          "model_module_version": "1.0.0",
          "state": {
            "_dom_classes": [],
            "_model_module": "@jupyter-widgets/output",
            "_model_module_version": "1.0.0",
            "_model_name": "OutputModel",
            "_view_count": null,
            "_view_module": "@jupyter-widgets/output",
            "_view_module_version": "1.0.0",
            "_view_name": "OutputView",
            "layout": "IPY_MODEL_6d56f73cad1b4e84a0416773e2c56af3",
            "msg_id": "",
            "outputs": [
              {
                "output_type": "display_data",
                "data": {
                  "text/plain": "Image(value=b'GIF89aX\\x02~\\x01\\xf7\\x1f\\x00\\x00\\x00\\x00$\\x00\\x00H\\x00\\x00l\\x00\\x00\\x90\\x00\\x00\\xb4\\x00\\x00\\xd8\\…",
                  "application/vnd.jupyter.widget-view+json": {
                    "version_major": 2,
                    "version_minor": 0,
                    "model_id": "f0b9db9268b84a7c853fe4aa8a6c8827"
                  }
                },
                "metadata": {
                  "application/vnd.jupyter.widget-view+json": {
                    "colab": {
                      "custom_widget_manager": {
                        "url": "https://ssl.gstatic.com/colaboratory-static/widgets/colab-cdn-widget-manager/a8874ba6619b6106/manager.min.js"
                      }
                    }
                  }
                }
              }
            ]
          }
        },
        "6d56f73cad1b4e84a0416773e2c56af3": {
          "model_module": "@jupyter-widgets/base",
          "model_name": "LayoutModel",
          "model_module_version": "1.2.0",
          "state": {
            "_model_module": "@jupyter-widgets/base",
            "_model_module_version": "1.2.0",
            "_model_name": "LayoutModel",
            "_view_count": null,
            "_view_module": "@jupyter-widgets/base",
            "_view_module_version": "1.2.0",
            "_view_name": "LayoutView",
            "align_content": null,
            "align_items": null,
            "align_self": null,
            "border": null,
            "bottom": null,
            "display": null,
            "flex": null,
            "flex_flow": null,
            "grid_area": null,
            "grid_auto_columns": null,
            "grid_auto_flow": null,
            "grid_auto_rows": null,
            "grid_column": null,
            "grid_gap": null,
            "grid_row": null,
            "grid_template_areas": null,
            "grid_template_columns": null,
            "grid_template_rows": null,
            "height": null,
            "justify_content": null,
            "justify_items": null,
            "left": null,
            "margin": null,
            "max_height": null,
            "max_width": null,
            "min_height": null,
            "min_width": null,
            "object_fit": null,
            "object_position": null,
            "order": null,
            "overflow": null,
            "overflow_x": null,
            "overflow_y": null,
            "padding": null,
            "right": null,
            "top": null,
            "visibility": null,
            "width": null
          }
        },
        "f0b9db9268b84a7c853fe4aa8a6c8827": {
          "model_module": "@jupyter-widgets/controls",
          "model_name": "ImageModel",
          "model_module_version": "1.5.0",
          "state": {
            "_dom_classes": [],
            "_model_module": "@jupyter-widgets/controls",
            "_model_module_version": "1.5.0",
            "_model_name": "ImageModel",
            "_view_count": null,
            "_view_module": "@jupyter-widgets/controls",
            "_view_module_version": "1.5.0",
            "_view_name": "ImageView",
            "format": "png",
            "height": "",
            "layout": "IPY_MODEL_719231af3d164cda9f4e198ec6c7cec0",
            "width": ""
          }
        },
        "719231af3d164cda9f4e198ec6c7cec0": {
          "model_module": "@jupyter-widgets/base",
          "model_name": "LayoutModel",
          "model_module_version": "1.2.0",
          "state": {
            "_model_module": "@jupyter-widgets/base",
            "_model_module_version": "1.2.0",
            "_model_name": "LayoutModel",
            "_view_count": null,
            "_view_module": "@jupyter-widgets/base",
            "_view_module_version": "1.2.0",
            "_view_name": "LayoutView",
            "align_content": null,
            "align_items": null,
            "align_self": null,
            "border": null,
            "bottom": null,
            "display": null,
            "flex": null,
            "flex_flow": null,
            "grid_area": null,
            "grid_auto_columns": null,
            "grid_auto_flow": null,
            "grid_auto_rows": null,
            "grid_column": null,
            "grid_gap": null,
            "grid_row": null,
            "grid_template_areas": null,
            "grid_template_columns": null,
            "grid_template_rows": null,
            "height": null,
            "justify_content": null,
            "justify_items": null,
            "left": null,
            "margin": null,
            "max_height": null,
            "max_width": null,
            "min_height": null,
            "min_width": null,
            "object_fit": null,
            "object_position": null,
            "order": null,
            "overflow": null,
            "overflow_x": null,
            "overflow_y": null,
            "padding": null,
            "right": null,
            "top": null,
            "visibility": null,
            "width": null
          }
        }
      }
    }
  },
  "cells": [
    {
      "cell_type": "markdown",
      "metadata": {
        "id": "view-in-github",
        "colab_type": "text"
      },
      "source": [
        "<a href=\"https://colab.research.google.com/github/KunihikoK3/DL_RS_GEE/blob/main/GOES16_gif.ipynb\" target=\"_parent\"><img src=\"https://colab.research.google.com/assets/colab-badge.svg\" alt=\"Open In Colab\"/></a>"
      ]
    },
    {
      "cell_type": "markdown",
      "source": [
        "# Generation of gif using GOES16 data"
      ],
      "metadata": {
        "id": "KMckWOmwcrsG"
      }
    },
    {
      "cell_type": "markdown",
      "source": [
        "Will follow the video [GEE Tutorial #16 - Adding animated text to GIF images](https://www.youtube.com/watch?v=fDnDVuM_Ke4) with corresponding [code](https://colab.research.google.com/github/giswqs/geemap/blob/master/examples/notebooks/16_add_animated_text.ipynb)."
      ],
      "metadata": {
        "id": "fpL7C_oNnvbs"
      }
    },
    {
      "cell_type": "markdown",
      "source": [
        "## Initialization"
      ],
      "metadata": {
        "id": "OJvq0GiCdDec"
      }
    },
    {
      "cell_type": "markdown",
      "source": [
        "Recall that Colab generates a new virtual machine at each run so nonstandard packages need to be (re)installed."
      ],
      "metadata": {
        "id": "HbnRhBPtefMu"
      }
    },
    {
      "cell_type": "code",
      "source": [
        "!pip install geemap"
      ],
      "metadata": {
        "id": "9DMYaxt3e11P"
      },
      "execution_count": null,
      "outputs": []
    },
    {
      "cell_type": "code",
      "source": [
        "import geemap\n",
        "print(geemap.__version__)"
      ],
      "metadata": {
        "colab": {
          "base_uri": "https://localhost:8080/"
        },
        "id": "E6hKmel0fIpW",
        "outputId": "09d90ddc-83e9-4c06-d7d7-b576a78e58c7"
      },
      "execution_count": 37,
      "outputs": [
        {
          "output_type": "stream",
          "name": "stdout",
          "text": [
            "0.13.4\n"
          ]
        }
      ]
    },
    {
      "cell_type": "code",
      "source": [
        "import ee\n",
        "ee.Authenticate()\n",
        "ee.Initialize()"
      ],
      "metadata": {
        "id": "1gq7A2p5de1A"
      },
      "execution_count": null,
      "outputs": []
    },
    {
      "cell_type": "markdown",
      "source": [
        "### Mount Google drive"
      ],
      "metadata": {
        "id": "ZXfUN7yBkq9L"
      }
    },
    {
      "cell_type": "code",
      "source": [
        "from google.colab import drive\n",
        "drive.mount('/content/drive')"
      ],
      "metadata": {
        "id": "doFOlV2mkxLj"
      },
      "execution_count": null,
      "outputs": []
    },
    {
      "cell_type": "code",
      "source": [
        "!ls /content/drive/MyDrive/GEE_data"
      ],
      "metadata": {
        "colab": {
          "base_uri": "https://localhost:8080/"
        },
        "id": "otCkQUF8lJA6",
        "outputId": "5babc4b0-b96c-48c2-f209-0d0e5aee28e9"
      },
      "execution_count": 40,
      "outputs": [
        {
          "output_type": "stream",
          "name": "stdout",
          "text": [
            "animation.gif  NOAA_temp.gif  output.gif\n"
          ]
        }
      ]
    },
    {
      "cell_type": "markdown",
      "source": [
        "## Use geemap to display a gif\n",
        "I previously downloaded Wu's [example gif](https://github.com/giswqs/geemap/blob/master/examples/data/animation.gif) and placed it in the folder /content/drive/MyDrive/GEE_data\n",
        "\n",
        "Also let's create file/path names for input and output gifs:"
      ],
      "metadata": {
        "id": "ircSro7Hoa_g"
      }
    },
    {
      "cell_type": "code",
      "source": [
        "in_gif='/content/drive/MyDrive/GEE_data/animation.gif'\n",
        "out_gif='/content/drive/MyDrive/GEE_data/output.gif'"
      ],
      "metadata": {
        "id": "OvZQRdT7tvc8"
      },
      "execution_count": 22,
      "outputs": []
    },
    {
      "cell_type": "code",
      "source": [
        "geemap.show_image(in_gif)"
      ],
      "metadata": {
        "colab": {
          "base_uri": "https://localhost:8080/",
          "height": 265,
          "referenced_widgets": [
            "35336e37d6974fa490ac8ec45f8c94ad",
            "9b1ea5c3deb14edfab818636597fc29a",
            "13b0327863624daeab8783c9d57b0050",
            "45831d1b9ed34de5a250ae28041a070e"
          ]
        },
        "id": "JcDtLOgbohlC",
        "outputId": "983e6bc9-8394-43a2-da98-2eb73633cf4e"
      },
      "execution_count": 21,
      "outputs": [
        {
          "output_type": "display_data",
          "data": {
            "text/plain": [
              "Output()"
            ],
            "application/vnd.jupyter.widget-view+json": {
              "version_major": 2,
              "version_minor": 0,
              "model_id": "35336e37d6974fa490ac8ec45f8c94ad"
            }
          },
          "metadata": {
            "application/vnd.jupyter.widget-view+json": {
              "colab": {
                "custom_widget_manager": {
                  "url": "https://ssl.gstatic.com/colaboratory-static/widgets/colab-cdn-widget-manager/a8874ba6619b6106/manager.min.js"
                }
              }
            }
          }
        }
      ]
    },
    {
      "cell_type": "markdown",
      "source": [
        "### Add animated text to GIF"
      ],
      "metadata": {
        "id": "3ODcYEbPucj-"
      }
    },
    {
      "cell_type": "code",
      "source": [
        "geemap.add_text_to_gif(\n",
        "    in_gif,\n",
        "    out_gif,\n",
        "    xy=('5%', '5%'),\n",
        "    text_sequence=1984,\n",
        "    font_size=30,\n",
        "    font_color='#0000ff',\n",
        "    duration=200,\n",
        ")"
      ],
      "metadata": {
        "id": "FhRStRUluhtY"
      },
      "execution_count": 27,
      "outputs": []
    },
    {
      "cell_type": "code",
      "source": [
        "geemap.show_image(out_gif)"
      ],
      "metadata": {
        "id": "5IbBhT2IuouT"
      },
      "execution_count": null,
      "outputs": []
    },
    {
      "cell_type": "markdown",
      "source": [
        "### Add place name"
      ],
      "metadata": {
        "id": "J1bY4BUcxwwD"
      }
    },
    {
      "cell_type": "code",
      "source": [
        "geemap.add_text_to_gif(\n",
        "    out_gif, out_gif, xy=('30%', '85%'), text_sequence=\"Las Vegas\", font_color='black'\n",
        ")"
      ],
      "metadata": {
        "id": "_dxMx_Ayx1lt"
      },
      "execution_count": 29,
      "outputs": []
    },
    {
      "cell_type": "code",
      "source": [
        "geemap.show_image(out_gif)"
      ],
      "metadata": {
        "id": "hfyaJFtax8Rx"
      },
      "execution_count": null,
      "outputs": []
    },
    {
      "cell_type": "markdown",
      "source": [
        "## Create GIF from Earth Engine data\n",
        "\n",
        "This example was adapted from the Earth Engine JavaScript API Documentation [here](https://developers.google.com/earth-engine/ic_visualization#video_thumb). \n",
        "\n",
        "**NOTE**: Creation of a GIF can be done *without* the use of geemap; see this [notebook](https://gist.github.com/jdbcode/054e8c0c39e052f91db635390a93f710)."
      ],
      "metadata": {
        "id": "47tZJv-tzDJk"
      }
    },
    {
      "cell_type": "code",
      "source": [
        ""
      ],
      "metadata": {
        "id": "4Sknuh-kzIkx"
      },
      "execution_count": null,
      "outputs": []
    },
    {
      "cell_type": "code",
      "metadata": {
        "id": "2cepvwDdbWTz"
      },
      "source": [
        "# Define an area of interest geometry with a global non-polar extent.\n",
        "aoi = ee.Geometry.Polygon(\n",
        "  [[[-179.0, 78.0], [-179.0, -58.0], [179.0, -58.0], [179.0, 78.0]]], None,\n",
        "  False)\n",
        "\n",
        "# Import hourly predicted temperature image collection for northern winter\n",
        "# solstice. Note that predictions extend for 384 hours; limit the collection\n",
        "# to the first 24 hours.\n",
        "temp_col = (ee.ImageCollection('NOAA/GFS0P25')\n",
        "  .filterDate('2018-12-22', '2018-12-23')\n",
        "  .limit(24)\n",
        "  .select('temperature_2m_above_ground'))\n",
        "\n",
        "# Define arguments for animation function parameters.\n",
        "video_args = {\n",
        "  'dimensions': 768,\n",
        "  'region': aoi,\n",
        "  'framesPerSecond': 7,\n",
        "  'crs': 'EPSG:3857',\n",
        "  'min': -40.0,\n",
        "  'max': 35.0,\n",
        "  'palette': ['blue', 'purple', 'cyan', 'green', 'yellow', 'red']\n",
        "}\n",
        "\n",
        "# Get URL that will produce the animation when accessed.\n",
        "gif_url = temp_col.getVideoThumbURL(video_args)\n",
        "gif_url"
      ],
      "execution_count": null,
      "outputs": []
    },
    {
      "cell_type": "markdown",
      "source": [
        "### Download the gif url to Google Drive"
      ],
      "metadata": {
        "id": "qi_ukXk35JMc"
      }
    },
    {
      "cell_type": "code",
      "source": [
        "import urllib.request\n",
        "\n",
        "gif_name = '/content/drive/MyDrive/GEE_data/NOAA_temp.gif'\n",
        "urllib.request.urlretrieve(gif_url, gif_name)"
      ],
      "metadata": {
        "id": "LhotkAmT5SLe"
      },
      "execution_count": null,
      "outputs": []
    },
    {
      "cell_type": "markdown",
      "source": [
        "Use geemap to display"
      ],
      "metadata": {
        "id": "YKqICVhX6FDR"
      }
    },
    {
      "cell_type": "code",
      "source": [
        "geemap.show_image(gif_name)"
      ],
      "metadata": {
        "id": "-y1jkB4H55nO"
      },
      "execution_count": null,
      "outputs": []
    },
    {
      "cell_type": "markdown",
      "source": [
        "## Create GOES 16 gif\n",
        "Let's modify the above NOAA gif using the javascript code from [GOES in Earth Engine](https://jstnbraaten.medium.com/goes-in-earth-engine-53fbc8783c16). Wu has a similar [example](https://geemap.org/notebooks/99_landsat_9/) for applying scaling factors to an Image. GEE (javascript) specifications for visualizing GOES 16 images is [here](https://developers.google.com/earth-engine/datasets/catalog/NOAA_GOES_16_MCMIPM?hl=en#image-properties): note similarities with code from [GOES in Earth Engine](https://jstnbraaten.medium.com/goes-in-earth-engine-53fbc8783c16)."
      ],
      "metadata": {
        "id": "SkyOkrL9_7I0"
      }
    },
    {
      "cell_type": "markdown",
      "source": [
        "### Convert javascript to python\n",
        "Apply function ```geemap.js_snippet_to_py``` to the javascript code from [GOES in Earth Engine](https://jstnbraaten.medium.com/goes-in-earth-engine-53fbc8783c16). ```geemap.js_snippet_to_py``` does not work in Colab(?) so function was run in VScode. The following code chunks were converted from javascript."
      ],
      "metadata": {
        "id": "sriiAlTvQ8Kn"
      }
    },
    {
      "cell_type": "markdown",
      "source": [
        "Use a [lambda function](https://gis.stackexchange.com/questions/356588/clipping-a-gee-image-with-python-api) for ImageCollection (did not need after all as .map in\n",
        "\n",
        "```geosVisCol = ee.ImageCollection('NOAA/GOES/17/MCMIPF').filterDate('2020-09-05T15:00', '2020-09-06T02:00').map(processForVis)```\n",
        "\n",
        "seems to play the role of the lambda function) and [change notation](https://gis.stackexchange.com/questions/421643/scale-factors-application-not-working-on-gee-pyqgis) for addBands:"
      ],
      "metadata": {
        "id": "mpFwLLyZly07"
      }
    },
    {
      "cell_type": "code",
      "source": [
        "def applyScaleAndOffset(img):\n",
        "  def getFactorImg(factorNames):\n",
        "    factorList = img.toDictionary().select(factorNames).values()\n",
        "    return ee.Image.constant(factorList)\n",
        "  scaleImg = getFactorImg(['CMI_C.._scale'])\n",
        "  offsetImg = getFactorImg(['CMI_C.._offset'])\n",
        "  scaled = img.select('CMI_C..').multiply(scaleImg).add(offsetImg)\n",
        "  #scaled = img.map(lambda image: image.select('CMI_C..').multiply(scaleImg).add(offsetImg)) \n",
        "  return img.addBands(srcImg= scaled, overwrite= True)\n",
        "  # return img.map(lambda image: image.addBands(srcImg = scaled, overwrite = True))"
      ],
      "metadata": {
        "id": "Tf5PSTLiWAgT"
      },
      "execution_count": 137,
      "outputs": []
    },
    {
      "cell_type": "markdown",
      "source": [
        "will need [Google Earth Engine Python expression syntax](https://gis.stackexchange.com/questions/419849/google-earth-engine-python-expression-syntax)"
      ],
      "metadata": {
        "id": "1ngEBI5Xo_CM"
      }
    },
    {
      "cell_type": "code",
      "source": [
        "# Adds a synthetic green band.\n",
        "def addGreenBand(img):\n",
        "  green = img.expression(\n",
        "    'CMI_GREEN = 0.45 * red + 0.10 * nir + 0.45 * blue',\n",
        "    {\n",
        "      'blue': img.select('CMI_C01'),\n",
        "      'red': img.select('CMI_C02'),\n",
        "      'nir': img.select('CMI_C03')\n",
        "    }\n",
        "  )\n",
        "  return img.addBands(green)\n",
        "  # return img.map(lambda image: image.addBands(green))"
      ],
      "metadata": {
        "id": "NDbhFhufmg7Z"
      },
      "execution_count": 138,
      "outputs": []
    },
    {
      "cell_type": "code",
      "source": [
        "# Scales select bands for visualization.\n",
        "def scaleForVis(img):\n",
        "  return img.select(['CMI_C01', 'CMI_GREEN', 'CMI_C02', 'CMI_C03', 'CMI_C05']) \\\n",
        "              .resample('bicubic') \\\n",
        "              .log10() \\\n",
        "              .interpolate([-1.6, 0.176], [0, 1], 'clamp') \\\n",
        "              .unmask(0) \\\n",
        "              .set('system:time_start', img.get('system:time_start'))"
      ],
      "metadata": {
        "id": "z5f8RwXVqjYb"
      },
      "execution_count": 139,
      "outputs": []
    },
    {
      "cell_type": "code",
      "source": [
        "# Wraps previous functions.\n",
        "def processForVis(img):\n",
        "  return scaleForVis(addGreenBand(applyScaleAndOffset(img)))"
      ],
      "metadata": {
        "id": "EGRB91kArgfP"
      },
      "execution_count": 140,
      "outputs": []
    },
    {
      "cell_type": "code",
      "source": [
        "# Get CMI image collection and process it for visualization.\n",
        "geosVisCol = ee.ImageCollection('NOAA/GOES/17/MCMIPF').filterDate('2020-09-05T15:00', '2020-09-06T02:00').map(processForVis)\n",
        "\n",
        "# Set display parameters and render the animation.\n",
        "visParams = {\n",
        "  'bands': ['CMI_C02', 'CMI_C03', 'CMI_C01'],\n",
        "  'min': 0,\n",
        "  'max': 0.8,\n",
        "  'gamma': 0.8,\n",
        "  'dimensions': 600,\n",
        "  'framesPerSecond': 10,\n",
        "  'region': ee.Geometry.BBox(-123.17, 36.56, -116.22, 40.03),\n",
        "  'crs': 'EPSG:3857'\n",
        "};\n",
        "# print(ui.Thumbnail(geosVisCol, visParams));\n",
        "# Vis2=processForVis(geosVisCol)\n",
        "# Get URL that will produce the animation when accessed.\n",
        "gif_url = geosVisCol.getVideoThumbURL(visParams)\n",
        "gif_url"
      ],
      "metadata": {
        "colab": {
          "base_uri": "https://localhost:8080/",
          "height": 54
        },
        "id": "rc3JMHlnr-aQ",
        "outputId": "4269c638-a9ae-4e3f-8f94-ac6a64ec9e08"
      },
      "execution_count": 141,
      "outputs": [
        {
          "output_type": "execute_result",
          "data": {
            "text/plain": [
              "'https://earthengine.googleapis.com/v1alpha/projects/earthengine-legacy/videoThumbnails/e85a8252b1c03705931760ccffa9421b-ec3e51f1ec13a264f5508f7a20b3aa79:getPixels'"
            ],
            "application/vnd.google.colaboratory.intrinsic+json": {
              "type": "string"
            }
          },
          "metadata": {},
          "execution_count": 141
        }
      ]
    },
    {
      "cell_type": "code",
      "source": [
        "import urllib.request\n",
        "\n",
        "gif_name = '/content/drive/MyDrive/GEE_data/GOES.gif'\n",
        "urllib.request.urlretrieve(gif_url, gif_name)"
      ],
      "metadata": {
        "colab": {
          "base_uri": "https://localhost:8080/"
        },
        "id": "_Nf42tlqMm4C",
        "outputId": "5e41e540-b51d-42ad-a4d9-8ca6b39aaf35"
      },
      "execution_count": 142,
      "outputs": [
        {
          "output_type": "execute_result",
          "data": {
            "text/plain": [
              "('/content/drive/MyDrive/GEE_data/GOES.gif',\n",
              " <http.client.HTTPMessage at 0x7f1af7fd8950>)"
            ]
          },
          "metadata": {},
          "execution_count": 142
        }
      ]
    },
    {
      "cell_type": "code",
      "source": [
        "geemap.show_image(gif_name)"
      ],
      "metadata": {
        "colab": {
          "base_uri": "https://localhost:8080/",
          "height": 407,
          "referenced_widgets": [
            "eebf46239ef54308a69eeb40e2442aaa",
            "6d56f73cad1b4e84a0416773e2c56af3",
            "f0b9db9268b84a7c853fe4aa8a6c8827",
            "719231af3d164cda9f4e198ec6c7cec0"
          ]
        },
        "id": "vr0ag02NM5Nr",
        "outputId": "2d835bd7-db51-4967-ee5d-850dce50c3af"
      },
      "execution_count": 143,
      "outputs": [
        {
          "output_type": "display_data",
          "data": {
            "text/plain": [
              "Output()"
            ],
            "application/vnd.jupyter.widget-view+json": {
              "version_major": 2,
              "version_minor": 0,
              "model_id": "eebf46239ef54308a69eeb40e2442aaa"
            }
          },
          "metadata": {
            "application/vnd.jupyter.widget-view+json": {
              "colab": {
                "custom_widget_manager": {
                  "url": "https://ssl.gstatic.com/colaboratory-static/widgets/colab-cdn-widget-manager/a8874ba6619b6106/manager.min.js"
                }
              }
            }
          }
        }
      ]
    }
  ]
}